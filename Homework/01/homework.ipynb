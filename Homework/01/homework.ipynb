{
 "cells": [
  {
   "cell_type": "code",
   "execution_count": 1,
   "id": "3bae632e",
   "metadata": {},
   "outputs": [],
   "source": [
    "import pandas as pd\n",
    "import numpy as np\n",
    "import random\n",
    "import torch\n",
    "import torch.nn as nn\n",
    "import torch.nn.functional as F\n",
    "import re\n",
    "import time\n",
    "from torch.utils.data import Dataset, DataLoader\n",
    "from tqdm import tqdm\n",
    "from collections import Counter\n",
    "from IPython.display import clear_output\n",
    "\n",
    "from scripts import BpeTokenizer, Model, Trainer, Collator, MyDataset, generate"
   ]
  },
  {
   "cell_type": "markdown",
   "id": "fbf920c8",
   "metadata": {},
   "source": [
    "# Загружаем данные"
   ]
  },
  {
   "cell_type": "code",
   "execution_count": 2,
   "id": "62c4b8e1",
   "metadata": {
    "scrolled": true
   },
   "outputs": [],
   "source": [
    "df = pd.read_csv('data/dataset.csv')\n",
    "train_texts = df['text'][:-1024].tolist()\n",
    "eval_texts = df['text'][-1024:].tolist()"
   ]
  },
  {
   "cell_type": "markdown",
   "id": "1185cbdb",
   "metadata": {},
   "source": [
    "# Инициализируем и обучаем токенизатор"
   ]
  },
  {
   "cell_type": "code",
   "execution_count": 3,
   "id": "c2faf407",
   "metadata": {},
   "outputs": [],
   "source": [
    "tokenizer = BpeTokenizer()"
   ]
  },
  {
   "cell_type": "code",
   "execution_count": 4,
   "id": "deecd0e9",
   "metadata": {},
   "outputs": [
    {
     "name": "stderr",
     "output_type": "stream",
     "text": [
      "pair=(277, 338), freq=52: 100%|██████████| 1789/1789 [06:13<00:00,  4.79it/s]  \n"
     ]
    }
   ],
   "source": [
    "tokenizer.train(train_texts[:2048], max_vocab=2048)"
   ]
  },
  {
   "cell_type": "markdown",
   "id": "a4388757",
   "metadata": {},
   "source": [
    "# Создаем датасеты и Collator"
   ]
  },
  {
   "cell_type": "code",
   "execution_count": 5,
   "id": "5a41f636",
   "metadata": {},
   "outputs": [
    {
     "name": "stderr",
     "output_type": "stream",
     "text": [
      "100%|██████████| 16384/16384 [28:10<00:00,  9.69it/s]\n",
      "100%|██████████| 1024/1024 [02:06<00:00,  8.07it/s]\n"
     ]
    }
   ],
   "source": [
    "train_dataset = MyDataset(train_texts, tokenizer, max_length=128)\n",
    "eval_dataset = MyDataset(eval_texts, tokenizer, max_length=128)\n",
    "collator = Collator(tokenizer.pad_token_id)"
   ]
  },
  {
   "cell_type": "markdown",
   "id": "6f1d558d",
   "metadata": {},
   "source": [
    "# Создаем модель"
   ]
  },
  {
   "cell_type": "code",
   "execution_count": 6,
   "id": "6bbf25b3",
   "metadata": {},
   "outputs": [],
   "source": [
    "torch.manual_seed(42)\n",
    "np.random.seed(42)\n",
    "random.seed(42)"
   ]
  },
  {
   "cell_type": "code",
   "execution_count": 7,
   "id": "96a9378a",
   "metadata": {},
   "outputs": [],
   "source": [
    "model = Model(tokenizer.get_vocab_size(), emb_size=128, hidden_size=256, num_layers=2, dropout=0.1)"
   ]
  },
  {
   "cell_type": "markdown",
   "id": "58ee6385",
   "metadata": {},
   "source": [
    "# Создаем Trainer и запускаем обучение"
   ]
  },
  {
   "cell_type": "code",
   "execution_count": 8,
   "id": "08145518",
   "metadata": {},
   "outputs": [],
   "source": [
    "trainer = Trainer(\n",
    "    model=model,\n",
    "    train_dataset=train_dataset,\n",
    "    eval_dataset=eval_dataset,\n",
    "    n_epochs=8,\n",
    "    train_batch_size=32,\n",
    "    eval_batch_size=32,\n",
    "    eval_steps=64,\n",
    "    collator=collator,\n",
    "    lr=1e-2,\n",
    "    ignore_index=tokenizer.pad_token_id\n",
    ")"
   ]
  },
  {
   "cell_type": "code",
   "execution_count": 9,
   "id": "57b36087",
   "metadata": {},
   "outputs": [
    {
     "name": "stderr",
     "output_type": "stream",
     "text": [
      "epoch=0.126953125, loss=5.051429748535156:   2%|▏         | 65/4096 [00:28<1:38:57,  1.47s/it]"
     ]
    },
    {
     "name": "stdout",
     "output_type": "stream",
     "text": [
      "epoch=0.125, eval_loss=4.97737780213356\n"
     ]
    },
    {
     "name": "stderr",
     "output_type": "stream",
     "text": [
      "epoch=0.251953125, loss=4.219053268432617:   3%|▎         | 129/4096 [00:55<1:54:42,  1.74s/it]"
     ]
    },
    {
     "name": "stdout",
     "output_type": "stream",
     "text": [
      "epoch=0.25, eval_loss=4.169926807284355\n"
     ]
    },
    {
     "name": "stderr",
     "output_type": "stream",
     "text": [
      "epoch=0.376953125, loss=3.9263572692871094:   5%|▍         | 193/4096 [01:24<1:52:14,  1.73s/it]"
     ]
    },
    {
     "name": "stdout",
     "output_type": "stream",
     "text": [
      "epoch=0.375, eval_loss=3.923488199710846\n"
     ]
    },
    {
     "name": "stderr",
     "output_type": "stream",
     "text": [
      "epoch=0.501953125, loss=3.7898001670837402:   6%|▋         | 257/4096 [01:50<1:48:49,  1.70s/it]"
     ]
    },
    {
     "name": "stdout",
     "output_type": "stream",
     "text": [
      "epoch=0.5, eval_loss=3.782384566962719\n"
     ]
    },
    {
     "name": "stderr",
     "output_type": "stream",
     "text": [
      "epoch=0.625, loss=3.818887710571289:   8%|▊         | 320/4096 [02:46<1:17:47,  1.24s/it]       "
     ]
    },
    {
     "name": "stdout",
     "output_type": "stream",
     "text": [
      "epoch=0.625, eval_loss=3.700392946600914\n"
     ]
    },
    {
     "name": "stderr",
     "output_type": "stream",
     "text": [
      "epoch=0.75, loss=3.7848241329193115:   9%|▉         | 384/4096 [05:20<1:39:50,  1.61s/it]       "
     ]
    },
    {
     "name": "stdout",
     "output_type": "stream",
     "text": [
      "epoch=0.75, eval_loss=3.6304906755685806\n"
     ]
    },
    {
     "name": "stderr",
     "output_type": "stream",
     "text": [
      "epoch=0.875, loss=3.6997897624969482:  11%|█         | 448/4096 [07:29<1:31:18,  1.50s/it]      "
     ]
    },
    {
     "name": "stdout",
     "output_type": "stream",
     "text": [
      "epoch=0.875, eval_loss=3.5856097415089607\n"
     ]
    },
    {
     "name": "stderr",
     "output_type": "stream",
     "text": [
      "epoch=1.001953125, loss=3.452646017074585:  13%|█▎        | 513/4096 [09:35<1:37:30,  1.63s/it] "
     ]
    },
    {
     "name": "stdout",
     "output_type": "stream",
     "text": [
      "epoch=1.0, eval_loss=3.540256656706333\n"
     ]
    },
    {
     "name": "stderr",
     "output_type": "stream",
     "text": [
      "epoch=1.126953125, loss=3.543100595474243:  14%|█▍        | 577/4096 [09:59<1:33:34,  1.60s/it]"
     ]
    },
    {
     "name": "stdout",
     "output_type": "stream",
     "text": [
      "epoch=1.125, eval_loss=3.5119623243808746\n"
     ]
    },
    {
     "name": "stderr",
     "output_type": "stream",
     "text": [
      "epoch=1.25, loss=3.5287868976593018:  16%|█▌        | 641/4096 [10:28<2:03:26,  2.14s/it]      "
     ]
    },
    {
     "name": "stdout",
     "output_type": "stream",
     "text": [
      "epoch=1.25, eval_loss=3.488582693040371\n"
     ]
    },
    {
     "name": "stderr",
     "output_type": "stream",
     "text": [
      "epoch=1.375, loss=3.5669617652893066:  17%|█▋        | 705/4096 [10:57<1:37:24,  1.72s/it]      "
     ]
    },
    {
     "name": "stdout",
     "output_type": "stream",
     "text": [
      "epoch=1.375, eval_loss=3.4642586559057236\n"
     ]
    },
    {
     "name": "stderr",
     "output_type": "stream",
     "text": [
      "epoch=1.501953125, loss=3.436894655227661:  19%|█▉        | 769/4096 [11:25<1:34:21,  1.70s/it]"
     ]
    },
    {
     "name": "stdout",
     "output_type": "stream",
     "text": [
      "epoch=1.5, eval_loss=3.442082405090332\n"
     ]
    },
    {
     "name": "stderr",
     "output_type": "stream",
     "text": [
      "epoch=1.625, loss=3.431894063949585:  20%|██        | 832/4096 [11:47<18:12,  2.99it/s]        "
     ]
    },
    {
     "name": "stdout",
     "output_type": "stream",
     "text": [
      "epoch=1.625, eval_loss=3.427661143243313\n"
     ]
    },
    {
     "name": "stderr",
     "output_type": "stream",
     "text": [
      "epoch=1.751953125, loss=3.364483594894409:  22%|██▏       | 897/4096 [12:20<1:31:44,  1.72s/it] "
     ]
    },
    {
     "name": "stdout",
     "output_type": "stream",
     "text": [
      "epoch=1.75, eval_loss=3.406350255012512\n"
     ]
    },
    {
     "name": "stderr",
     "output_type": "stream",
     "text": [
      "epoch=1.876953125, loss=3.427708625793457:  23%|██▎       | 961/4096 [12:48<1:32:27,  1.77s/it]"
     ]
    },
    {
     "name": "stdout",
     "output_type": "stream",
     "text": [
      "epoch=1.875, eval_loss=3.3909997418522835\n"
     ]
    },
    {
     "name": "stderr",
     "output_type": "stream",
     "text": [
      "epoch=2.0, loss=3.409818410873413:  25%|██▌       | 1024/4096 [14:49<2:25:21,  2.84s/it]         "
     ]
    },
    {
     "name": "stdout",
     "output_type": "stream",
     "text": [
      "epoch=2.0, eval_loss=3.374264284968376\n"
     ]
    },
    {
     "name": "stderr",
     "output_type": "stream",
     "text": [
      "epoch=2.125, loss=3.296023368835449:  27%|██▋       | 1088/4096 [17:46<1:52:55,  2.25s/it]       "
     ]
    },
    {
     "name": "stdout",
     "output_type": "stream",
     "text": [
      "epoch=2.125, eval_loss=3.3679151460528374\n"
     ]
    },
    {
     "name": "stderr",
     "output_type": "stream",
     "text": [
      "epoch=2.25, loss=3.389859437942505:  28%|██▊       | 1152/4096 [19:49<1:59:39,  2.44s/it]        "
     ]
    },
    {
     "name": "stdout",
     "output_type": "stream",
     "text": [
      "epoch=2.25, eval_loss=3.3602999448776245\n"
     ]
    },
    {
     "name": "stderr",
     "output_type": "stream",
     "text": [
      "epoch=2.375, loss=3.3712680339813232:  30%|██▉       | 1216/4096 [22:36<1:34:21,  1.97s/it]      "
     ]
    },
    {
     "name": "stdout",
     "output_type": "stream",
     "text": [
      "epoch=2.375, eval_loss=3.345918670296669\n"
     ]
    },
    {
     "name": "stderr",
     "output_type": "stream",
     "text": [
      "epoch=2.5, loss=3.370718240737915:  31%|███▏      | 1280/4096 [25:13<1:37:16,  2.07s/it]         "
     ]
    },
    {
     "name": "stdout",
     "output_type": "stream",
     "text": [
      "epoch=2.5, eval_loss=3.33622132986784\n"
     ]
    },
    {
     "name": "stderr",
     "output_type": "stream",
     "text": [
      "epoch=2.625, loss=3.3975419998168945:  33%|███▎      | 1344/4096 [27:30<1:33:29,  2.04s/it]      "
     ]
    },
    {
     "name": "stdout",
     "output_type": "stream",
     "text": [
      "epoch=2.625, eval_loss=3.3218561559915543\n"
     ]
    },
    {
     "name": "stderr",
     "output_type": "stream",
     "text": [
      "epoch=2.75, loss=3.416069746017456:  34%|███▍      | 1408/4096 [29:42<1:19:33,  1.78s/it]        "
     ]
    },
    {
     "name": "stdout",
     "output_type": "stream",
     "text": [
      "epoch=2.75, eval_loss=3.312635473906994\n"
     ]
    },
    {
     "name": "stderr",
     "output_type": "stream",
     "text": [
      "epoch=2.875, loss=3.3790433406829834:  36%|███▌      | 1473/4096 [30:47<1:18:48,  1.80s/it]      "
     ]
    },
    {
     "name": "stdout",
     "output_type": "stream",
     "text": [
      "epoch=2.875, eval_loss=3.298700273036957\n"
     ]
    },
    {
     "name": "stderr",
     "output_type": "stream",
     "text": [
      "epoch=3.0, loss=3.4428887367248535:  38%|███▊      | 1537/4096 [31:15<1:15:33,  1.77s/it]       "
     ]
    },
    {
     "name": "stdout",
     "output_type": "stream",
     "text": [
      "epoch=3.0, eval_loss=3.298554725944996\n"
     ]
    },
    {
     "name": "stderr",
     "output_type": "stream",
     "text": [
      "epoch=3.125, loss=3.2475059032440186:  39%|███▉      | 1601/4096 [31:39<59:03,  1.42s/it]       "
     ]
    },
    {
     "name": "stdout",
     "output_type": "stream",
     "text": [
      "epoch=3.125, eval_loss=3.295689359307289\n"
     ]
    },
    {
     "name": "stderr",
     "output_type": "stream",
     "text": [
      "epoch=3.251953125, loss=3.255401849746704:  41%|████      | 1665/4096 [32:06<1:08:49,  1.70s/it]"
     ]
    },
    {
     "name": "stdout",
     "output_type": "stream",
     "text": [
      "epoch=3.25, eval_loss=3.293256402015686\n"
     ]
    },
    {
     "name": "stderr",
     "output_type": "stream",
     "text": [
      "epoch=3.376953125, loss=3.2452943325042725:  42%|████▏     | 1729/4096 [32:34<1:09:39,  1.77s/it]"
     ]
    },
    {
     "name": "stdout",
     "output_type": "stream",
     "text": [
      "epoch=3.375, eval_loss=3.2809798941016197\n"
     ]
    },
    {
     "name": "stderr",
     "output_type": "stream",
     "text": [
      "epoch=3.501953125, loss=3.305697202682495:  44%|████▍     | 1793/4096 [32:59<1:04:04,  1.67s/it] "
     ]
    },
    {
     "name": "stdout",
     "output_type": "stream",
     "text": [
      "epoch=3.5, eval_loss=3.2763904705643654\n"
     ]
    },
    {
     "name": "stderr",
     "output_type": "stream",
     "text": [
      "epoch=3.626953125, loss=3.3562681674957275:  45%|████▌     | 1857/4096 [33:23<46:22,  1.24s/it] "
     ]
    },
    {
     "name": "stdout",
     "output_type": "stream",
     "text": [
      "epoch=3.625, eval_loss=3.2732590958476067\n"
     ]
    },
    {
     "name": "stderr",
     "output_type": "stream",
     "text": [
      "epoch=3.751953125, loss=3.262657880783081:  47%|████▋     | 1921/4096 [33:50<1:01:53,  1.71s/it]"
     ]
    },
    {
     "name": "stdout",
     "output_type": "stream",
     "text": [
      "epoch=3.75, eval_loss=3.264459379017353\n"
     ]
    },
    {
     "name": "stderr",
     "output_type": "stream",
     "text": [
      "epoch=3.876953125, loss=3.30000638961792:  48%|████▊     | 1985/4096 [34:31<51:44,  1.47s/it]   "
     ]
    },
    {
     "name": "stdout",
     "output_type": "stream",
     "text": [
      "epoch=3.875, eval_loss=3.255089186131954\n"
     ]
    },
    {
     "name": "stderr",
     "output_type": "stream",
     "text": [
      "epoch=4.001953125, loss=3.1531057357788086:  50%|█████     | 2049/4096 [34:56<55:45,  1.63s/it]"
     ]
    },
    {
     "name": "stdout",
     "output_type": "stream",
     "text": [
      "epoch=4.0, eval_loss=3.2553740590810776\n"
     ]
    },
    {
     "name": "stderr",
     "output_type": "stream",
     "text": [
      "epoch=4.125, loss=3.1322920322418213:  52%|█████▏    | 2113/4096 [35:20<55:14,  1.67s/it]      "
     ]
    },
    {
     "name": "stdout",
     "output_type": "stream",
     "text": [
      "epoch=4.125, eval_loss=3.253384992480278\n"
     ]
    },
    {
     "name": "stderr",
     "output_type": "stream",
     "text": [
      "epoch=4.251953125, loss=3.252687454223633:  53%|█████▎    | 2177/4096 [35:47<54:34,  1.71s/it] "
     ]
    },
    {
     "name": "stdout",
     "output_type": "stream",
     "text": [
      "epoch=4.25, eval_loss=3.2504097297787666\n"
     ]
    },
    {
     "name": "stderr",
     "output_type": "stream",
     "text": [
      "epoch=4.376953125, loss=3.1319329738616943:  55%|█████▍    | 2241/4096 [36:13<50:39,  1.64s/it]"
     ]
    },
    {
     "name": "stdout",
     "output_type": "stream",
     "text": [
      "epoch=4.375, eval_loss=3.245215982198715\n"
     ]
    },
    {
     "name": "stderr",
     "output_type": "stream",
     "text": [
      "epoch=4.501953125, loss=3.2246999740600586:  56%|█████▋    | 2305/4096 [36:39<46:53,  1.57s/it]"
     ]
    },
    {
     "name": "stdout",
     "output_type": "stream",
     "text": [
      "epoch=4.5, eval_loss=3.2356583550572395\n"
     ]
    },
    {
     "name": "stderr",
     "output_type": "stream",
     "text": [
      "epoch=4.626953125, loss=3.243983030319214:  58%|█████▊    | 2369/4096 [37:05<45:20,  1.58s/it] "
     ]
    },
    {
     "name": "stdout",
     "output_type": "stream",
     "text": [
      "epoch=4.625, eval_loss=3.234720006585121\n"
     ]
    },
    {
     "name": "stderr",
     "output_type": "stream",
     "text": [
      "epoch=4.751953125, loss=3.180795907974243:  59%|█████▉    | 2433/4096 [37:32<46:12,  1.67s/it] "
     ]
    },
    {
     "name": "stdout",
     "output_type": "stream",
     "text": [
      "epoch=4.75, eval_loss=3.2272757440805435\n"
     ]
    },
    {
     "name": "stderr",
     "output_type": "stream",
     "text": [
      "epoch=4.876953125, loss=3.3083102703094482:  61%|██████    | 2497/4096 [37:58<45:07,  1.69s/it]"
     ]
    },
    {
     "name": "stdout",
     "output_type": "stream",
     "text": [
      "epoch=4.875, eval_loss=3.2293874621391296\n"
     ]
    },
    {
     "name": "stderr",
     "output_type": "stream",
     "text": [
      "epoch=5.001953125, loss=3.1728360652923584:  63%|██████▎   | 2561/4096 [38:25<42:53,  1.68s/it]"
     ]
    },
    {
     "name": "stdout",
     "output_type": "stream",
     "text": [
      "epoch=5.0, eval_loss=3.2172585874795914\n"
     ]
    },
    {
     "name": "stderr",
     "output_type": "stream",
     "text": [
      "epoch=5.126953125, loss=3.0990865230560303:  64%|██████▍   | 2625/4096 [38:53<38:02,  1.55s/it]"
     ]
    },
    {
     "name": "stdout",
     "output_type": "stream",
     "text": [
      "epoch=5.125, eval_loss=3.224392905831337\n"
     ]
    },
    {
     "name": "stderr",
     "output_type": "stream",
     "text": [
      "epoch=5.251953125, loss=3.18107533454895:  66%|██████▌   | 2689/4096 [39:20<39:18,  1.68s/it]  "
     ]
    },
    {
     "name": "stdout",
     "output_type": "stream",
     "text": [
      "epoch=5.25, eval_loss=3.222892604768276\n"
     ]
    },
    {
     "name": "stderr",
     "output_type": "stream",
     "text": [
      "epoch=5.376953125, loss=3.23866868019104:  67%|██████▋   | 2753/4096 [39:46<39:34,  1.77s/it]  "
     ]
    },
    {
     "name": "stdout",
     "output_type": "stream",
     "text": [
      "epoch=5.375, eval_loss=3.220684163272381\n"
     ]
    },
    {
     "name": "stderr",
     "output_type": "stream",
     "text": [
      "epoch=5.501953125, loss=3.1593594551086426:  69%|██████▉   | 2817/4096 [40:10<33:17,  1.56s/it]"
     ]
    },
    {
     "name": "stdout",
     "output_type": "stream",
     "text": [
      "epoch=5.5, eval_loss=3.2153554037213326\n"
     ]
    },
    {
     "name": "stderr",
     "output_type": "stream",
     "text": [
      "epoch=5.626953125, loss=3.1265971660614014:  70%|███████   | 2881/4096 [40:38<39:46,  1.96s/it]"
     ]
    },
    {
     "name": "stdout",
     "output_type": "stream",
     "text": [
      "epoch=5.625, eval_loss=3.2067449018359184\n"
     ]
    },
    {
     "name": "stderr",
     "output_type": "stream",
     "text": [
      "epoch=5.75, loss=3.264831781387329:  72%|███████▏  | 2944/4096 [40:56<05:39,  3.39it/s]        "
     ]
    },
    {
     "name": "stdout",
     "output_type": "stream",
     "text": [
      "epoch=5.75, eval_loss=3.202623501420021\n"
     ]
    },
    {
     "name": "stderr",
     "output_type": "stream",
     "text": [
      "epoch=5.876953125, loss=3.170314311981201:  73%|███████▎  | 3009/4096 [41:28<29:29,  1.63s/it] "
     ]
    },
    {
     "name": "stdout",
     "output_type": "stream",
     "text": [
      "epoch=5.875, eval_loss=3.2021101117134094\n"
     ]
    },
    {
     "name": "stderr",
     "output_type": "stream",
     "text": [
      "epoch=6.001953125, loss=3.0277395248413086:  75%|███████▌  | 3073/4096 [41:55<28:59,  1.70s/it]"
     ]
    },
    {
     "name": "stdout",
     "output_type": "stream",
     "text": [
      "epoch=6.0, eval_loss=3.1944537088274956\n"
     ]
    },
    {
     "name": "stderr",
     "output_type": "stream",
     "text": [
      "epoch=6.126953125, loss=3.1204261779785156:  77%|███████▋  | 3137/4096 [42:20<25:11,  1.58s/it]"
     ]
    },
    {
     "name": "stdout",
     "output_type": "stream",
     "text": [
      "epoch=6.125, eval_loss=3.20120732486248\n"
     ]
    },
    {
     "name": "stderr",
     "output_type": "stream",
     "text": [
      "epoch=6.251953125, loss=3.191662311553955:  78%|███████▊  | 3201/4096 [42:47<23:54,  1.60s/it] "
     ]
    },
    {
     "name": "stdout",
     "output_type": "stream",
     "text": [
      "epoch=6.25, eval_loss=3.2009038627147675\n"
     ]
    },
    {
     "name": "stderr",
     "output_type": "stream",
     "text": [
      "epoch=6.376953125, loss=3.1292896270751953:  80%|███████▉  | 3265/4096 [43:14<21:41,  1.57s/it]"
     ]
    },
    {
     "name": "stdout",
     "output_type": "stream",
     "text": [
      "epoch=6.375, eval_loss=3.1998384967446327\n"
     ]
    },
    {
     "name": "stderr",
     "output_type": "stream",
     "text": [
      "epoch=6.501953125, loss=3.1376142501831055:  81%|████████▏ | 3329/4096 [43:39<19:36,  1.53s/it]"
     ]
    },
    {
     "name": "stdout",
     "output_type": "stream",
     "text": [
      "epoch=6.5, eval_loss=3.1927731931209564\n"
     ]
    },
    {
     "name": "stderr",
     "output_type": "stream",
     "text": [
      "epoch=6.626953125, loss=3.2026519775390625:  83%|████████▎ | 3393/4096 [44:06<19:07,  1.63s/it]"
     ]
    },
    {
     "name": "stdout",
     "output_type": "stream",
     "text": [
      "epoch=6.625, eval_loss=3.185656376183033\n"
     ]
    },
    {
     "name": "stderr",
     "output_type": "stream",
     "text": [
      "epoch=6.751953125, loss=3.187620162963867:  84%|████████▍ | 3457/4096 [44:33<16:54,  1.59s/it] "
     ]
    },
    {
     "name": "stdout",
     "output_type": "stream",
     "text": [
      "epoch=6.75, eval_loss=3.183912344276905\n"
     ]
    },
    {
     "name": "stderr",
     "output_type": "stream",
     "text": [
      "epoch=6.876953125, loss=3.205148935317993:  86%|████████▌ | 3521/4096 [44:59<14:43,  1.54s/it] "
     ]
    },
    {
     "name": "stdout",
     "output_type": "stream",
     "text": [
      "epoch=6.875, eval_loss=3.180990658700466\n"
     ]
    },
    {
     "name": "stderr",
     "output_type": "stream",
     "text": [
      "epoch=7.001953125, loss=3.0970864295959473:  88%|████████▊ | 3585/4096 [45:26<14:24,  1.69s/it]"
     ]
    },
    {
     "name": "stdout",
     "output_type": "stream",
     "text": [
      "epoch=7.0, eval_loss=3.1771999523043633\n"
     ]
    },
    {
     "name": "stderr",
     "output_type": "stream",
     "text": [
      "epoch=7.125, loss=3.0542759895324707:  89%|████████▉ | 3648/4096 [45:49<03:17,  2.27it/s]      "
     ]
    },
    {
     "name": "stdout",
     "output_type": "stream",
     "text": [
      "epoch=7.125, eval_loss=3.1849128529429436\n"
     ]
    },
    {
     "name": "stderr",
     "output_type": "stream",
     "text": [
      "epoch=7.25, loss=3.0610220432281494:  91%|█████████ | 3712/4096 [47:13<06:19,  1.01it/s]       "
     ]
    },
    {
     "name": "stdout",
     "output_type": "stream",
     "text": [
      "epoch=7.25, eval_loss=3.183534190058708\n"
     ]
    },
    {
     "name": "stderr",
     "output_type": "stream",
     "text": [
      "epoch=7.375, loss=3.2947208881378174:  92%|█████████▏| 3776/4096 [48:30<05:13,  1.02it/s]      "
     ]
    },
    {
     "name": "stdout",
     "output_type": "stream",
     "text": [
      "epoch=7.375, eval_loss=3.1782300919294357\n"
     ]
    },
    {
     "name": "stderr",
     "output_type": "stream",
     "text": [
      "epoch=7.5, loss=3.1933882236480713:  94%|█████████▍| 3840/4096 [49:55<05:50,  1.37s/it]        "
     ]
    },
    {
     "name": "stdout",
     "output_type": "stream",
     "text": [
      "epoch=7.5, eval_loss=3.175804004073143\n"
     ]
    },
    {
     "name": "stderr",
     "output_type": "stream",
     "text": [
      "epoch=7.625, loss=3.144860029220581:  95%|█████████▌| 3904/4096 [51:26<04:19,  1.35s/it]       "
     ]
    },
    {
     "name": "stdout",
     "output_type": "stream",
     "text": [
      "epoch=7.625, eval_loss=3.177337668836117\n"
     ]
    },
    {
     "name": "stderr",
     "output_type": "stream",
     "text": [
      "epoch=7.75, loss=3.1166303157806396:  97%|█████████▋| 3968/4096 [53:06<02:42,  1.27s/it]       "
     ]
    },
    {
     "name": "stdout",
     "output_type": "stream",
     "text": [
      "epoch=7.75, eval_loss=3.168650910258293\n"
     ]
    },
    {
     "name": "stderr",
     "output_type": "stream",
     "text": [
      "epoch=7.875, loss=3.0055019855499268:  98%|█████████▊| 4032/4096 [54:41<01:33,  1.47s/it]      "
     ]
    },
    {
     "name": "stdout",
     "output_type": "stream",
     "text": [
      "epoch=7.875, eval_loss=3.167494721710682\n"
     ]
    },
    {
     "name": "stderr",
     "output_type": "stream",
     "text": [
      "epoch=8.0, loss=3.109633445739746: 100%|██████████| 4096/4096 [56:20<00:00,  1.21it/s]         "
     ]
    },
    {
     "name": "stdout",
     "output_type": "stream",
     "text": [
      "epoch=8.0, eval_loss=3.1640994176268578\n"
     ]
    },
    {
     "name": "stderr",
     "output_type": "stream",
     "text": [
      "\n"
     ]
    }
   ],
   "source": [
    "trainer.train()"
   ]
  },
  {
   "cell_type": "markdown",
   "id": "0b4b73df",
   "metadata": {},
   "source": [
    "# Оцениваем качество и проверяем жадную и случайную генерацию"
   ]
  },
  {
   "cell_type": "code",
   "execution_count": 10,
   "id": "88155ce6",
   "metadata": {},
   "outputs": [
    {
     "data": {
      "text/plain": [
       "3.1640994176268578"
      ]
     },
     "execution_count": 10,
     "metadata": {},
     "output_type": "execute_result"
    }
   ],
   "source": [
    "trainer.evaluate()"
   ]
  },
  {
   "cell_type": "code",
   "execution_count": 11,
   "id": "e9299f79",
   "metadata": {},
   "outputs": [
    {
     "data": {
      "text/plain": [
       "'М и наиболее эффективность, возможность, возможность, возможность, возможность, возможность, возможность, возможность, возможность, возможность, возможность, возможность, возможность, возможность, возможность, возможность, возможность, возможность, возможность, возможность, возможность, возможность, возможность, возможность, возможность, возможность, возможность, возможность, возможность, возможность, возможность, возможность, возможность, возможность, возможность, возможность, возможность, возможность, возможность, возможность, возможность, возможность, возможность, возможность, возможность, возможность, возможность, возможность, возможность, возможность, возможность, возможность, возможность, возможность, возможность, возможность, возможность, возможность, возможность, возможность, возможность, возможность, возможность, возможность, возможность, возможность, возможность, возможность, возможность, возможность, возможность, возможность, возможность, возможность, возможность, возможность, возможность, возможность, возможность, возможность, возможность, возможность, возможность, возможность, возможность, возможность, возможность, возможность, возможность, возможность, возможность, возможность, возможность, возможность, возможность, возможность, возможность, возможность, возможность, возможность, возможность, возможность, возможность, возможность, возможность, возможность, возможность, возможность, возможность, возможность, возможность, возможность, возможность, возможность, возможность, возможность, возможность, возможность, возможность, возможность, возможность, возможность, возможность, возможность, возможность, возможность, возможность, возможность, возможность, возможность, возможность, возможность, возможность, возможность, возможность, возможность, возможность, возможность, возможность, возможность, возможность, возможность, возможность, возможность, возможность, возможность, возможность, возможность, возможность, возможность, возможность, возможность, возможность, возможность, возможность, возможность, возможность, возможность, возможность, возможность, возможность, возможность, возможность, возможность, возможность, возможность, возможность, возможность, возможность, возможность, возможность, возможность, возможность, возможность, возможность, возможность, возможность, возможность, возможность, возможность, возможность, возможность, возможность, возможность, возможность, возможность, возможность, возможность, возможность, возможность, возможность, возможность, возможность, возможность, возможность, возможность, возможность, возможность, возможность, возможность, возможность, возможность, возможность, возможность, возможность, возможность, возможность, возможность, возможность, возможность, возможность, возможность, возможность, возможность, возможность, возможность, возможность, возможность, возможность, возможность, возможность, возможность, возможность, возможность, возможность, возможность, возможность, возможность, возможность, возможность, возможность, возможность, возможность, возможность, возможность, возможность, возможность, возможность, возможность, возможность, возможность, возможность, возможность, возможность, возможность, возможность, возможность, возможность, возможность, возможность, возможность, возможность, возможность, возможность, возможность, возможность, возможность, возможность, возможность, возможность, возможность, возможность, возможность, возможность, возможность, возможность, возможность, возможность, возможность, возможность, возможность, возможность, возможность, возможность, возможность, возможность, возможность, возможность, возможность, возможность, возможность, возможность, возможность, возможность, возможность, возможность, возможность, возможность, возможность, возможность, возможность, возможность, возможность, возможность, возможность, возможность, возможность, возможность, возможность, возможность, возможность, возможность, возможность, возможность, возможность, возможность, возможность, возможность, возможность, возможность, возможность, возможность, возможность, возможность, возможность, возможность, возможность, возможность, возможность, возможность, возможность, возможность, возможность, возможность, возможность, возможность, возможность, возможность, возможность, возможность, возможность, возможность, возможность, возможность, возможность, возможность, возможность, возможность, возможность, возмож'"
      ]
     },
     "execution_count": 11,
     "metadata": {},
     "output_type": "execute_result"
    }
   ],
   "source": [
    "generate(model, tokenizer, temperature=0)"
   ]
  },
  {
   "cell_type": "code",
   "execution_count": 12,
   "id": "441e4368",
   "metadata": {},
   "outputs": [
    {
     "data": {
      "text/plain": [
       "'Сек в этом выяснувины проблемой наские задачи, ссоры или природный утрального и задуманшего: например, подсказсливинтересные и прям вторжения или корот, если вы худебных людей и март, особенно красдивать свои потребностью, если вы неудачуется неверной жизни.'"
      ]
     },
     "execution_count": 12,
     "metadata": {},
     "output_type": "execute_result"
    }
   ],
   "source": [
    "generate(model, tokenizer, temperature=0.5, top_k=20)"
   ]
  }
 ],
 "metadata": {
  "kernelspec": {
   "display_name": "Python 3",
   "language": "python",
   "name": "python3"
  },
  "language_info": {
   "codemirror_mode": {
    "name": "ipython",
    "version": 3
   },
   "file_extension": ".py",
   "mimetype": "text/x-python",
   "name": "python",
   "nbconvert_exporter": "python",
   "pygments_lexer": "ipython3",
   "version": "3.12.0"
  }
 },
 "nbformat": 4,
 "nbformat_minor": 5
}
